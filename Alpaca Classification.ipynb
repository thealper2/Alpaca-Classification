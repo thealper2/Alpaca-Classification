{
 "cells": [
  {
   "cell_type": "code",
   "execution_count": 75,
   "id": "e981a659",
   "metadata": {},
   "outputs": [],
   "source": [
    "import numpy as np\n",
    "import pandas as pd\n",
    "import tensorflow as tf\n",
    "import matplotlib.pyplot as plt\n",
    "import glob\n",
    "import cv2\n",
    "import os\n",
    "from sklearn.model_selection import train_test_split\n",
    "from tensorflow.keras.applications.efficientnet import preprocess_input\n",
    "from tensorflow.keras.applications import EfficientNetB3\n",
    "from tensorflow.keras.layers import Dense, GlobalAveragePooling2D\n",
    "from tensorflow.keras.models import Sequential, Model\n",
    "from tensorflow.keras.preprocessing.image import ImageDataGenerator\n",
    "from tensorflow.keras.utils import plot_model"
   ]
  },
  {
   "cell_type": "code",
   "execution_count": 44,
   "id": "aa507581",
   "metadata": {},
   "outputs": [],
   "source": [
    "root_dir = \"dataset\""
   ]
  },
  {
   "cell_type": "code",
   "execution_count": 55,
   "id": "d54fc50b",
   "metadata": {},
   "outputs": [],
   "source": [
    "data = []\n",
    "labels = []\n",
    "\n",
    "for label in os.listdir(root_dir):\n",
    "    files = os.listdir(root_dir + \"/\" + label)\n",
    "    for file in files:\n",
    "        file_path = os.path.join(root_dir + \"/\" + label + \"/\" + file)\n",
    "        \n",
    "        data.append(file_path)\n",
    "        labels.append(label)"
   ]
  },
  {
   "cell_type": "code",
   "execution_count": 56,
   "id": "10e55aef",
   "metadata": {},
   "outputs": [
    {
     "name": "stdout",
     "output_type": "stream",
     "text": [
      "327\n",
      "327\n"
     ]
    }
   ],
   "source": [
    "print(len(data))\n",
    "print(len(labels))"
   ]
  },
  {
   "cell_type": "code",
   "execution_count": 57,
   "id": "bc6c6c11",
   "metadata": {},
   "outputs": [],
   "source": [
    "data = pd.Series(data)\n",
    "labels = pd.Series(labels)"
   ]
  },
  {
   "cell_type": "code",
   "execution_count": 58,
   "id": "358e3613",
   "metadata": {},
   "outputs": [],
   "source": [
    "df = pd.DataFrame({\"data\": data, \"label\": labels})"
   ]
  },
  {
   "cell_type": "code",
   "execution_count": 60,
   "id": "a41b9557",
   "metadata": {},
   "outputs": [
    {
     "data": {
      "text/plain": [
       "(327, 2)"
      ]
     },
     "execution_count": 60,
     "metadata": {},
     "output_type": "execute_result"
    }
   ],
   "source": [
    "df.shape"
   ]
  },
  {
   "cell_type": "code",
   "execution_count": 61,
   "id": "e982d7b0",
   "metadata": {},
   "outputs": [],
   "source": [
    "train_df, test_df = train_test_split(df, test_size=0.1, random_state=4242)"
   ]
  },
  {
   "cell_type": "code",
   "execution_count": 62,
   "id": "0db37b2d",
   "metadata": {},
   "outputs": [],
   "source": [
    "train_df, valid_df = train_test_split(train_df, test_size=0.1, random_state=4242)"
   ]
  },
  {
   "cell_type": "code",
   "execution_count": 63,
   "id": "2b13f1f6",
   "metadata": {},
   "outputs": [],
   "source": [
    "train_datagen = ImageDataGenerator(\n",
    "    preprocessing_function=preprocess_input,\n",
    "    zoom_range=0.2,\n",
    "    width_shift_range=0.1,\n",
    "    height_shift_range=0.1\n",
    ")\n",
    "\n",
    "test_datagen = ImageDataGenerator(\n",
    "    preprocessing_function=preprocess_input\n",
    ")"
   ]
  },
  {
   "cell_type": "code",
   "execution_count": 65,
   "id": "2a99089a",
   "metadata": {},
   "outputs": [
    {
     "name": "stdout",
     "output_type": "stream",
     "text": [
      "Found 264 validated image filenames belonging to 2 classes.\n",
      "Found 30 validated image filenames belonging to 2 classes.\n",
      "Found 33 validated image filenames belonging to 2 classes.\n"
     ]
    }
   ],
   "source": [
    "train_gen = train_datagen.flow_from_dataframe(\n",
    "    train_df,\n",
    "    x_col=\"data\",\n",
    "    y_col=\"label\",\n",
    "    target_size=(300, 300),\n",
    "    batch_size=32,\n",
    "    class_mode=\"binary\",\n",
    "    color_mode=\"rgb\",\n",
    ")\n",
    "\n",
    "valid_gen = test_datagen.flow_from_dataframe(\n",
    "    valid_df,\n",
    "    x_col=\"data\",\n",
    "    y_col=\"label\",\n",
    "    target_size=(300, 300),\n",
    "    batch_size=32,\n",
    "    class_mode=\"binary\",\n",
    "    color_mode=\"rgb\",\n",
    ")\n",
    "\n",
    "test_gen = test_datagen.flow_from_dataframe(\n",
    "    test_df,\n",
    "    x_col=\"data\",\n",
    "    y_col=\"label\",\n",
    "    target_size=(300, 300),\n",
    "    batch_size=32,\n",
    "    class_mode=\"binary\",\n",
    "    color_mode=\"rgb\",\n",
    ")"
   ]
  },
  {
   "cell_type": "code",
   "execution_count": 66,
   "id": "06a79143",
   "metadata": {},
   "outputs": [
    {
     "name": "stdout",
     "output_type": "stream",
     "text": [
      "Downloading data from https://storage.googleapis.com/keras-applications/efficientnetb3_notop.h5\n",
      "43941136/43941136 [==============================] - 4s 0us/step\n"
     ]
    }
   ],
   "source": [
    "base_model = EfficientNetB3(weights='imagenet', include_top=False, input_shape=(224, 224, 3))\n",
    "\n",
    "for layer in base_model.layers:\n",
    "    layer.trainable = False"
   ]
  },
  {
   "cell_type": "code",
   "execution_count": 72,
   "id": "266873a9",
   "metadata": {},
   "outputs": [],
   "source": [
    "x = base_model.output\n",
    "x = GlobalAveragePooling2D()(x)\n",
    "x = Dense(1024, activation='relu')(x)\n",
    "predictions = Dense(1, activation='softmax')(x)\n",
    "\n",
    "model = Model(inputs=base_model.input, outputs=predictions)"
   ]
  },
  {
   "cell_type": "code",
   "execution_count": 73,
   "id": "f84c4ac6",
   "metadata": {},
   "outputs": [],
   "source": [
    "model.compile(optimizer='adam', loss='categorical_crossentropy', metrics=['accuracy'])"
   ]
  },
  {
   "cell_type": "code",
   "execution_count": null,
   "id": "6a9f74d0",
   "metadata": {},
   "outputs": [],
   "source": [
    "model.summary()"
   ]
  },
  {
   "cell_type": "code",
   "execution_count": null,
   "id": "601197de",
   "metadata": {},
   "outputs": [],
   "source": [
    "plot_model(model)"
   ]
  },
  {
   "cell_type": "code",
   "execution_count": 81,
   "id": "c924494f",
   "metadata": {},
   "outputs": [
    {
     "name": "stderr",
     "output_type": "stream",
     "text": [
      "/var/folders/k7/w37qytjn78j3258njhbzvlvr0000gn/T/ipykernel_85923/184305253.py:1: UserWarning: `Model.fit_generator` is deprecated and will be removed in a future version. Please use `Model.fit`, which supports generators.\n",
      "  history = model.fit_generator(generator=train_gen, validation_data=valid_gen, epochs=10)\n"
     ]
    },
    {
     "name": "stdout",
     "output_type": "stream",
     "text": [
      "Epoch 1/10\n",
      "9/9 [==============================] - 13s 1s/step - loss: 0.0000e+00 - accuracy: 0.5758 - val_loss: 0.0000e+00 - val_accuracy: 0.5333\n",
      "Epoch 2/10\n",
      "9/9 [==============================] - 12s 1s/step - loss: 0.0000e+00 - accuracy: 0.5758 - val_loss: 0.0000e+00 - val_accuracy: 0.5333\n",
      "Epoch 3/10\n",
      "9/9 [==============================] - 12s 1s/step - loss: 0.0000e+00 - accuracy: 0.5758 - val_loss: 0.0000e+00 - val_accuracy: 0.5333\n",
      "Epoch 4/10\n",
      "9/9 [==============================] - 12s 1s/step - loss: 0.0000e+00 - accuracy: 0.5758 - val_loss: 0.0000e+00 - val_accuracy: 0.5333\n",
      "Epoch 5/10\n",
      "9/9 [==============================] - 12s 1s/step - loss: 0.0000e+00 - accuracy: 0.5758 - val_loss: 0.0000e+00 - val_accuracy: 0.5333\n",
      "Epoch 6/10\n",
      "9/9 [==============================] - 13s 1s/step - loss: 0.0000e+00 - accuracy: 0.5758 - val_loss: 0.0000e+00 - val_accuracy: 0.5333\n",
      "Epoch 7/10\n",
      "9/9 [==============================] - 13s 2s/step - loss: 0.0000e+00 - accuracy: 0.5758 - val_loss: 0.0000e+00 - val_accuracy: 0.5333\n",
      "Epoch 8/10\n",
      "9/9 [==============================] - 14s 1s/step - loss: 0.0000e+00 - accuracy: 0.5758 - val_loss: 0.0000e+00 - val_accuracy: 0.5333\n",
      "Epoch 9/10\n",
      "9/9 [==============================] - 13s 1s/step - loss: 0.0000e+00 - accuracy: 0.5758 - val_loss: 0.0000e+00 - val_accuracy: 0.5333\n",
      "Epoch 10/10\n",
      "9/9 [==============================] - 13s 1s/step - loss: 0.0000e+00 - accuracy: 0.5758 - val_loss: 0.0000e+00 - val_accuracy: 0.5333\n"
     ]
    }
   ],
   "source": [
    "history = model.fit_generator(generator=train_gen, validation_data=valid_gen, epochs=10)"
   ]
  },
  {
   "cell_type": "code",
   "execution_count": 84,
   "id": "b226819d",
   "metadata": {},
   "outputs": [
    {
     "name": "stdout",
     "output_type": "stream",
     "text": [
      "2/2 [==============================] - 2s 57ms/step - loss: 0.0000e+00 - accuracy: 0.5152\n"
     ]
    },
    {
     "data": {
      "text/plain": [
       "[0.0, 0.5151515007019043]"
      ]
     },
     "execution_count": 84,
     "metadata": {},
     "output_type": "execute_result"
    }
   ],
   "source": [
    "model.evaluate(test_gen)"
   ]
  },
  {
   "cell_type": "code",
   "execution_count": 85,
   "id": "2b584841",
   "metadata": {},
   "outputs": [
    {
     "data": {
      "text/html": [
       "<div>\n",
       "<style scoped>\n",
       "    .dataframe tbody tr th:only-of-type {\n",
       "        vertical-align: middle;\n",
       "    }\n",
       "\n",
       "    .dataframe tbody tr th {\n",
       "        vertical-align: top;\n",
       "    }\n",
       "\n",
       "    .dataframe thead th {\n",
       "        text-align: right;\n",
       "    }\n",
       "</style>\n",
       "<table border=\"1\" class=\"dataframe\">\n",
       "  <thead>\n",
       "    <tr style=\"text-align: right;\">\n",
       "      <th></th>\n",
       "      <th>loss</th>\n",
       "      <th>accuracy</th>\n",
       "      <th>val_loss</th>\n",
       "      <th>val_accuracy</th>\n",
       "    </tr>\n",
       "  </thead>\n",
       "  <tbody>\n",
       "    <tr>\n",
       "      <th>0</th>\n",
       "      <td>0.0</td>\n",
       "      <td>0.575758</td>\n",
       "      <td>0.0</td>\n",
       "      <td>0.533333</td>\n",
       "    </tr>\n",
       "    <tr>\n",
       "      <th>1</th>\n",
       "      <td>0.0</td>\n",
       "      <td>0.575758</td>\n",
       "      <td>0.0</td>\n",
       "      <td>0.533333</td>\n",
       "    </tr>\n",
       "    <tr>\n",
       "      <th>2</th>\n",
       "      <td>0.0</td>\n",
       "      <td>0.575758</td>\n",
       "      <td>0.0</td>\n",
       "      <td>0.533333</td>\n",
       "    </tr>\n",
       "    <tr>\n",
       "      <th>3</th>\n",
       "      <td>0.0</td>\n",
       "      <td>0.575758</td>\n",
       "      <td>0.0</td>\n",
       "      <td>0.533333</td>\n",
       "    </tr>\n",
       "    <tr>\n",
       "      <th>4</th>\n",
       "      <td>0.0</td>\n",
       "      <td>0.575758</td>\n",
       "      <td>0.0</td>\n",
       "      <td>0.533333</td>\n",
       "    </tr>\n",
       "  </tbody>\n",
       "</table>\n",
       "</div>"
      ],
      "text/plain": [
       "   loss  accuracy  val_loss  val_accuracy\n",
       "0   0.0  0.575758       0.0      0.533333\n",
       "1   0.0  0.575758       0.0      0.533333\n",
       "2   0.0  0.575758       0.0      0.533333\n",
       "3   0.0  0.575758       0.0      0.533333\n",
       "4   0.0  0.575758       0.0      0.533333"
      ]
     },
     "execution_count": 85,
     "metadata": {},
     "output_type": "execute_result"
    }
   ],
   "source": [
    "history_df = pd.DataFrame(history.history)\n",
    "history_df.head()"
   ]
  },
  {
   "cell_type": "code",
   "execution_count": 94,
   "id": "62a43a27",
   "metadata": {},
   "outputs": [
    {
     "data": {
      "image/png": "[encoded data removed]",
      "text/plain": [
       "<Figure size 640x480 with 1 Axes>"
      ]
     },
     "metadata": {},
     "output_type": "display_data"
    }
   ],
   "source": [
    "plt.figure()\n",
    "plt.plot(history.history[\"accuracy\"])\n",
    "plt.plot(history.history[\"val_accuracy\"])\n",
    "plt.xlabel(\"Epochs\")\n",
    "plt.ylabel(\"Accuracy\")\n",
    "plt.legend([\"train\", \"valid\"])\n",
    "plt.show()"
   ]
  },
  {
   "cell_type": "code",
   "execution_count": null,
   "id": "cc4d8655",
   "metadata": {},
   "outputs": [],
   "source": [
    "model.save(\"alpaca.h5\")"
   ]
  },
  {
   "cell_type": "code",
   "execution_count": null,
   "id": "46bc9156",
   "metadata": {},
   "outputs": [],
   "source": []
  }
 ],
 "metadata": {
  "kernelspec": {
   "display_name": "Python 3 (ipykernel)",
   "language": "python",
   "name": "python3"
  },
  "language_info": {
   "codemirror_mode": {
    "name": "ipython",
    "version": 3
   },
   "file_extension": ".py",
   "mimetype": "text/x-python",
   "name": "python",
   "nbconvert_exporter": "python",
   "pygments_lexer": "ipython3",
   "version": "3.8.16"
  }
 },
 "nbformat": 4,
 "nbformat_minor": 5
}
